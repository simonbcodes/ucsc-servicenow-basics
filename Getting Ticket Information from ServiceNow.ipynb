{
 "cells": [
  {
   "cell_type": "markdown",
   "metadata": {},
   "source": [
    "# Getting Ticket Information from ServiceNow using Python & requests"
   ]
  },
  {
   "cell_type": "markdown",
   "metadata": {},
   "source": [
    "This is a tutorial for getting access to incident tickets from the UCSC ServiceNow system. This should be applicable to other ServiceNow installations, but this is not guaranteed. Use at your own risk!"
   ]
  },
  {
   "cell_type": "markdown",
   "metadata": {},
   "source": [
    "### Goals: Download ticket information from the UCSC ServiceNow system and do some basic analysis\n",
    "### Tools: Python & requests"
   ]
  },
  {
   "cell_type": "markdown",
   "metadata": {},
   "source": [
    "Python (specifically Python 3) is a scripting language that is simple to use and incredibly powerful. I won't teach all of Python in this tutorial, but it is a relatively easy language to pick up. Some resources I would recommend are listed below: \n",
    "\n",
    "[Python Guru - Getting Started with Python](https://thepythonguru.com/getting-started-with-python/)\n",
    "\n",
    "[LearnPython.org](https://www.learnpython.org/)\n",
    "\n",
    "[Learning Python Overview](https://docs.python-guide.org/intro/learning/)\n",
    "\n",
    "It will work for our purposes, since we're going to be sending a request for data to the ServiceNow API and then downloading it for analysis later.\n",
    "\n",
    "requests is a Python module used for sending HTTP requests. This is commonly used for sending requests to APIs (Application Programming Interfaces), which, fortunately, is exactly what we're using it for. "
   ]
  },
  {
   "cell_type": "markdown",
   "metadata": {},
   "source": [
    "## Sending a Request\n",
    "To send a request, we first need a URL to send the request to (this is called an endpoint). This URL is modified and can be added to in order to request different information from the API. In our case, the API endpoint for ServiceNow incidents is:\n",
    "\n",
    "https://ucsc.service-now.com/api/now/table/incident?\n",
    "\n",
    "In our case, we want to store this as a Python variable, which can be done as follows:"
   ]
  },
  {
   "cell_type": "code",
   "execution_count": 5,
   "metadata": {},
   "outputs": [],
   "source": [
    "url = 'https://ucsc.service-now.com/api/now/table/incident?'"
   ]
  },
  {
   "cell_type": "markdown",
   "metadata": {},
   "source": [
    "The idea with this endpoint is to concatenate our parameters to the end of this url, and then send a request to it. This will (hopefully, if everything works) return tickets that match our parameters."
   ]
  },
  {
   "cell_type": "markdown",
   "metadata": {},
   "source": [
    "## Setting up filters\n",
    "If we want to retrieve a specific set of tickets, we can use ServiceNow filters. To do this, navigate to your ServiceNow instance and set up a filter of tickets that you would like to look at. Then, right click the blue text that defines the filter (make sure you select the parameter that is the furthest to the right) and select 'Copy query'. The text copied should look something like this:\n",
    "\n",
    "active=true^assigned_to=67c139b309641440fa07e749fee81bd7^incident_state=1\n",
    "\n",
    "This string defines ticket filter itself. If you look closely, you will see that it is broken into various conditions, separated by ^ characters. These are considered ANDs, meaning each of the conditions must be true for a ticket to be caught in the filter. Each condition is listed below:\n",
    "\n",
    "active=true\n",
    "\n",
    "assigned_to=67c139b309641440fa07e749fee81bd7\n",
    "\n",
    "incident_state=1\n",
    "\n",
    "As we can see, this filter finds tickets that are active, assigned to a specific department, and the incident's state is active. For this filter to work with our request to the ServiceNow API, we need to add 'sysparm_query=' to the front, which basically tells ServiceNow that the we are querying their system. Our resulting filter string looks like this:"
   ]
  },
  {
   "cell_type": "code",
   "execution_count": 15,
   "metadata": {},
   "outputs": [],
   "source": [
    "filter_str = 'sysparm_query=active=true^assigned_to=67c139b309641440fa07e749fee81bd7^incident_state=1'"
   ]
  },
  {
   "cell_type": "markdown",
   "metadata": {},
   "source": [
    "## Setting headers\n",
    "Before we send out a request, we need to provide some extra information to the ServiceNow API. This is done with a header, which is defined as follows:"
   ]
  },
  {
   "cell_type": "code",
   "execution_count": 2,
   "metadata": {},
   "outputs": [],
   "source": [
    "headers = {'Content-Type':'application/json','Accept':'application/json'}"
   ]
  },
  {
   "cell_type": "markdown",
   "metadata": {},
   "source": [
    "This header tells ServiceNow that we want JSON (JavaScript Object Notation) data as a response to our request. Python can handle JSON data very nicely, which makes it a good fit for processing our resulting data."
   ]
  },
  {
   "cell_type": "markdown",
   "metadata": {},
   "source": [
    "## Sending the request\n",
    "Now we have all the pieces necessary to send a request for the tickets we want. To recap, we needed:\n",
    "\n",
    "- An endpoint URL (where the request is sent)\n",
    "- A filter string (what tickets we want)\n",
    "- Headers (telling ServiceNow what sort of data we want)\n",
    "- Authentication (an account that sends the request)\n",
    "\n",
    "Now, to make our actual request, we use the aptly named requests library. The request module has to be imported before we use it, however."
   ]
  },
  {
   "cell_type": "code",
   "execution_count": 3,
   "metadata": {},
   "outputs": [],
   "source": [
    "import requests"
   ]
  },
  {
   "cell_type": "markdown",
   "metadata": {},
   "source": [
    "We need to make the full URL we are sending a request to. This is done by combining (concatenating) the endpoint URL with our filter to form the request url."
   ]
  },
  {
   "cell_type": "code",
   "execution_count": 16,
   "metadata": {},
   "outputs": [],
   "source": [
    "request_url = url  + filter_str"
   ]
  },
  {
   "cell_type": "markdown",
   "metadata": {},
   "source": [
    "To make sure our code is able to handle errors, we define our tickets object to be None at the start. Then, after the request, we can set the tickets object to be the response. This way, if we have an error, we can handle it and find the source of the issue."
   ]
  },
  {
   "cell_type": "code",
   "execution_count": 21,
   "metadata": {},
   "outputs": [],
   "source": [
    "tickets = None"
   ]
  },
  {
   "cell_type": "markdown",
   "metadata": {},
   "source": [
    "Now we can actually send the request. Since we are getting data from the API, we send a GET request using the .get() function from the requests module. Here it goes:"
   ]
  },
  {
   "cell_type": "code",
   "execution_count": 22,
   "metadata": {},
   "outputs": [],
   "source": [
    "response = requests.get(request_url, auth=('your_username','your_password'), headers=headers)"
   ]
  },
  {
   "cell_type": "markdown",
   "metadata": {},
   "source": [
    "Now we've got a response, but we should check if any error has occured. The response has a handy field denoting the status code that the response got. If an HTTP response was sent and recieved a status code of 200, that means the request was successful. We want to be alerted if the response status code was anything but 200, so we can write a condition to do so."
   ]
  },
  {
   "cell_type": "code",
   "execution_count": 23,
   "metadata": {},
   "outputs": [],
   "source": [
    "if response.status_code != 200:\n",
    "    raise ConnectionError('Error getting tickets, recieved status code: {}'.format(response.status_code))\n",
    "else:\n",
    "    tickets = response.json()"
   ]
  },
  {
   "cell_type": "markdown",
   "metadata": {},
   "source": [
    "Once we do get a 200 response, we get the JSON associated with the response with the .json() call. Since the resulting object can be treated like a dictionary, we can look inside and see if there are any keys we want to look at."
   ]
  },
  {
   "cell_type": "code",
   "execution_count": 29,
   "metadata": {},
   "outputs": [
    {
     "data": {
      "text/plain": [
       "dict_keys(['parent', 'caused_by', 'u_resolution', 'watch_list', 'upon_reject', 'sys_updated_on', 'approval_history', 'skills', 'u_computer_os', 'u_guest_email', 'number', 'u_security_type', 'state', 'sys_created_by', 'u_computer_mac_address', 'knowledge', 'order', 'u_remove_client_filter', 'u_subcategory', 'cmdb_ci', 'delivery_plan', 'impact', 'active', 'priority', 'business_duration', 'group_list', 'u_long_resolution', 'short_description', 'u_product', 'u_prev_assignmnt_grp', 'correlation_display', 'work_start', 'additional_assignee_list', 'u_delay_due_date', 'notify', 'sys_class_name', 'closed_by', 'follow_up', 'u_priority', 'u_signed_ati', 'reopened_by', 'reassignment_count', 'assigned_to', 'u_assigned_to', 'u_resnet_topic', 'sla_due', 'u_actual_problem', 'u_websvc_topic', 'u_milestone', 'u_jack_number', 'u_category', 'escalation', 'upon_approval', 'correlation_id', 'u_research_resolution', 'u_client_defined_end_date', 'u_sla_due', 'u_filter_applications', 'u_first_contact', 'made_sla', 'u_quick_routing_lookup', 'u_related_task', 'u_security_topic', 'u_building', 'resolved_by', 'u_business_service', 'sys_updated_by', 'opened_by', 'u_view_public_tech_notes', 'user_input', 'sys_created_on', 'sys_domain', 'u_who_involved', 'u_unplanned_outage', 'calendar_stc', 'closed_at', 'x_86994_opsgenie_alert_alias', 'business_service', 'u_accessibility_request', 'u_assignment_lookup', 'u_symptom', 'rfc', 'time_worked', 'expected_start', 'u_computer_ip', 'u_room_number', 'opened_at', 'x_86994_opsgenie_opsgenie_alert_id', 'u_bugid', 'work_end', 'caller_id', 'reopened_time', 'resolved_at', 'u_phone_number', 'u_planned_end_time', 'u_secure_ticket', 'subcategory', 'close_code', 'assignment_group', 'business_stc', 'description', 'calendar_duration', 'close_notes', 'sys_id', 'contact_type', 'u_scope', 'incident_state', 'urgency', 'problem_id', 'company', 'u_status', 'activity_due', 'severity', 'u_notes', 'comments', 'approval', 'u_component', 'due_date', 'sys_mod_count', 'u_program_script_process', 'u_reporter', 'sys_tags', 'u_application', 'u_pcr360_number', 'location', 'category'])"
      ]
     },
     "execution_count": 29,
     "metadata": {},
     "output_type": "execute_result"
    }
   ],
   "source": [
    "tickets.keys()\n",
    "tickets['result'][0].keys()"
   ]
  },
  {
   "cell_type": "markdown",
   "metadata": {},
   "source": [
    "We now have tickets in a list! They are stored within the 'result' key within the JSON response. Since multiple tickets matched the filter, the result key can be iterated through as follows:"
   ]
  },
  {
   "cell_type": "code",
   "execution_count": 28,
   "metadata": {},
   "outputs": [
    {
     "name": "stdout",
     "output_type": "stream",
     "text": [
      "Clone hard drive into a different computers hard drive\n"
     ]
    }
   ],
   "source": [
    "for ticket in tickets['result']:\n",
    "    print(ticket['short_description'])"
   ]
  },
  {
   "cell_type": "markdown",
   "metadata": {},
   "source": [
    "The rest is up to you! Each ticket has contains keys for different ticket attributes. Some may be named in ways you may not expect ('caller_id' corresponds to client information), but with a bit of digging, all necessary ticket information can be found. \n",
    "\n",
    "Note: Ticket comments and client information is stored in what's known as a journal, which is not directly stored with the ticket. It requires an entirely new HTTP request with the 'sys_id' of the ticket/client in question. More information can be found here:\n",
    "\n",
    "https://www.servicelater.co.uk/retrieving-comments-journals-from-a-ticket-using-the-servicenow-api/"
   ]
  }
 ],
 "metadata": {
  "kernelspec": {
   "display_name": "Python 3",
   "language": "python",
   "name": "python3"
  },
  "language_info": {
   "codemirror_mode": {
    "name": "ipython",
    "version": 3
   },
   "file_extension": ".py",
   "mimetype": "text/x-python",
   "name": "python",
   "nbconvert_exporter": "python",
   "pygments_lexer": "ipython3",
   "version": "3.6.4"
  }
 },
 "nbformat": 4,
 "nbformat_minor": 2
}
